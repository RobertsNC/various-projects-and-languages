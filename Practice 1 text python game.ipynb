{
 "cells": [
  {
   "cell_type": "code",
   "execution_count": 2,
   "metadata": {},
   "outputs": [
    {
     "name": "stdout",
     "output_type": "stream",
     "text": [
      "We are playing guess the number. What is your name?\n",
      "234\n",
      "Pick an number between 1 and 10 please.\n",
      "1\n",
      "Wrong! The correct answer was:  2\n",
      "Would you like to play again?\n",
      "yes or no?\n",
      "sfd\n",
      "You game me an invalid input you BAD PERSON, goodbye 234\n"
     ]
    }
   ],
   "source": [
    "from __future__ import print_function\n",
    "import random\n",
    "def run_game(name):\n",
    "    keep_playing = 1\n",
    "    while(keep_playing == 1):\n",
    "        print('Pick an number between 1 and 10 please.')\n",
    "        guess = input()\n",
    "        number = gen_number()\n",
    "        cont = correct_check(number, guess, name)\n",
    "        keep_playing = cont_check(cont)    \n",
    "        \n",
    "def gen_number():\n",
    "    number = random.randint(1,2)\n",
    "    return number\n",
    "def correct_check(rand_num, user_guess, name):\n",
    "    \n",
    "    if rand_num == int(user_guess):\n",
    "        print('You got it!')\n",
    "        \n",
    "    elif rand_num != user_guess:\n",
    "        print('Wrong! The correct answer was: ',rand_num)\n",
    "        \n",
    "    return play_again() \n",
    "\n",
    "def play_again():\n",
    "    print('Would you like to play again?\\nyes or no?')\n",
    "    user_input = input()\n",
    "    if user_input == 'yes':\n",
    "        return True\n",
    "    elif user_input == \"no\":\n",
    "        print('You messed up... come on, be better.')\n",
    "        return False\n",
    "    else:\n",
    "        print('You game me an invalid input you BAD PERSON, goodbye', name)\n",
    "        return False\n",
    "        \n",
    "def cont_check(keep_playing):\n",
    "    if keep_playing == True:\n",
    "        x = 1\n",
    "        return x\n",
    "    else:\n",
    "        x = 0\n",
    "        return x\n",
    "    \n",
    "if __name__ == '__main__':\n",
    "    print(\"We are playing guess the number. What is your name?\")\n",
    "    name = input()\n",
    "    run_game(name)"
   ]
  },
  {
   "cell_type": "code",
   "execution_count": null,
   "metadata": {},
   "outputs": [],
   "source": []
  }
 ],
 "metadata": {
  "kernelspec": {
   "display_name": "Python 3",
   "language": "python",
   "name": "python3"
  },
  "language_info": {
   "codemirror_mode": {
    "name": "ipython",
    "version": 3
   },
   "file_extension": ".py",
   "mimetype": "text/x-python",
   "name": "python",
   "nbconvert_exporter": "python",
   "pygments_lexer": "ipython3",
   "version": "3.6.4"
  }
 },
 "nbformat": 4,
 "nbformat_minor": 2
}
